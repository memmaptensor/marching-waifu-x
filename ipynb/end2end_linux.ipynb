{
 "cells": [
  {
   "attachments": {},
   "cell_type": "markdown",
   "metadata": {},
   "source": [
    "### Setup"
   ]
  },
  {
   "attachments": {},
   "cell_type": "markdown",
   "metadata": {},
   "source": [
    "Run `setup.sh` (once) beforehand"
   ]
  },
  {
   "cell_type": "code",
   "execution_count": null,
   "metadata": {
    "vscode": {
     "languageId": "shellscript"
    }
   },
   "outputs": [],
   "source": [
    "# Setup torch and other prerequisites\n",
    "%cd ..\n",
    "!python -m pip install --upgrade pip\n",
    "!python -m pip install gdown ipykernel ipywidgets\n",
    "!python -m pip install torch torchvision torchaudio torchtext torchdata --index-url https://download.pytorch.org/whl/cu118\n",
    "\n",
    "# Update submodules\n",
    "!git submodule update --init --recursive\n",
    "\n",
    "# Create directories\n",
    "!mkdir data/checkpoints\n",
    "!mkdir data/dataset/nvdiffrec/original\n",
    "!mkdir data/dataset/nvdiffrec/upscaled\n",
    "!mkdir data/dataset/nvdiffrec/train\n",
    "\n",
    "# Install requirements\n",
    "!python -m pip install -r requirements.txt\n",
    "\n",
    "# Setup RealESRGAN\n",
    "%cd ext/Real-ESRGAN\n",
    "!python -m pip install -r requirements.txt\n",
    "!python setup.py develop\n",
    "%cd ../..\n",
    "\n",
    "# Setup GroundingDINO + SegmentAnything\n",
    "%cd ext/Grounded-Segment-Anything\n",
    "!python -m pip install -q -r requirements.txt\n",
    "%cd GroundingDINO\n",
    "!python -m pip install -q .\n",
    "%cd ../segment_anything\n",
    "!python -m pip install -q .\n",
    "%cd ../../../.."
   ]
  },
  {
   "attachments": {},
   "cell_type": "markdown",
   "metadata": {},
   "source": [
    "### Imports"
   ]
  },
  {
   "cell_type": "code",
   "execution_count": null,
   "metadata": {
    "vscode": {
     "languageId": "shellscript"
    }
   },
   "outputs": [],
   "source": [
    "%cd marching-waifu-x/scripts"
   ]
  },
  {
   "cell_type": "code",
   "execution_count": null,
   "metadata": {},
   "outputs": [],
   "source": [
    "import sys\n",
    "\n",
    "sys.path.append(\"..\")\n",
    "\n",
    "import gc\n",
    "import glob\n",
    "import json\n",
    "import os\n",
    "\n",
    "import cv2\n",
    "import PIL.Image\n",
    "from IPython.display import Image\n",
    "\n",
    "from src.utils.image_wrapper import *"
   ]
  },
  {
   "attachments": {},
   "cell_type": "markdown",
   "metadata": {},
   "source": [
    "### ControlVideo"
   ]
  },
  {
   "cell_type": "code",
   "execution_count": null,
   "metadata": {},
   "outputs": [],
   "source": [
    "def save_gif(fps, images, scale, gif_path):\n",
    "    images = [image_wrapper(image).scale(scale).to_pil() for image in images]\n",
    "    images[0].save(\n",
    "        gif_path,\n",
    "        save_all=True,\n",
    "        append_images=images[1:],\n",
    "        optimize=False,\n",
    "        duration=len(images) / fps,\n",
    "    )\n",
    "\n",
    "\n",
    "def display_gif(gif_path):\n",
    "    display(Image(data=open(gif_path, \"rb\").read(), format=\"png\"))"
   ]
  },
  {
   "cell_type": "code",
   "execution_count": null,
   "metadata": {},
   "outputs": [],
   "source": [
    "with open(\"inference_controlvideo.json\", \"r\") as f:\n",
    "    controlvideo_conf = json.load(f)\n",
    "\n",
    "with open(\"inference_realesrgan.json\", \"r\") as f:\n",
    "    realesrgan_conf = json.load(f)"
   ]
  },
  {
   "cell_type": "code",
   "execution_count": null,
   "metadata": {
    "vscode": {
     "languageId": "shellscript"
    }
   },
   "outputs": [],
   "source": [
    "!python inference_controlvideo.py --settings_path \"inference_controlvideo.json\" "
   ]
  },
  {
   "cell_type": "code",
   "execution_count": null,
   "metadata": {
    "vscode": {
     "languageId": "shellscript"
    }
   },
   "outputs": [],
   "source": [
    "!python inference_realesrgan.py --settings_path \"inference_realesrgan.json\""
   ]
  },
  {
   "cell_type": "code",
   "execution_count": null,
   "metadata": {},
   "outputs": [],
   "source": [
    "# Load images\n",
    "images = sorted(glob.glob(os.path.join(realesrgan_conf[\"paths\"][\"out_path\"], \"*.png\")))\n",
    "images = [PIL.Image.open(image) for image in images]\n",
    "\n",
    "save_gif(10.0, images, 0.25, \"../ipynb/controlvideo_0.25x.gif\")\n",
    "del images\n",
    "gc.collect()\n",
    "\n",
    "display_gif(\"../ipynb/controlvideo_0.25x.gif\")"
   ]
  },
  {
   "attachments": {},
   "cell_type": "markdown",
   "metadata": {},
   "source": [
    "### GroundingDINO + SegmentAnything"
   ]
  },
  {
   "cell_type": "code",
   "execution_count": null,
   "metadata": {},
   "outputs": [],
   "source": [
    "with open(\"inference_groundedsam.json\", \"r\") as f:\n",
    "    groundedsam_conf = json.loads(f)"
   ]
  },
  {
   "cell_type": "code",
   "execution_count": null,
   "metadata": {
    "vscode": {
     "languageId": "shellscript"
    }
   },
   "outputs": [],
   "source": [
    "!python inference_groundedsam.py --settings_file inference_groundedsam.json"
   ]
  },
  {
   "cell_type": "code",
   "execution_count": null,
   "metadata": {},
   "outputs": [],
   "source": [
    "# Load images\n",
    "images = sorted(glob.glob(os.path.join(realesrgan_conf[\"paths\"][\"out_path\"], \"*.png\")))\n",
    "images = [PIL.Image.open(image) for image in images]\n",
    "\n",
    "# Load masked images\n",
    "masked_images = sorted(\n",
    "    glob.glob(\n",
    "        os.path.join(\n",
    "            groundedsam_conf[\"paths\"][\"out_path\"],\n",
    "            f\"{groundedsam_conf['paths']['file_prefix']}*.png\",\n",
    "        )\n",
    "    )\n",
    ")\n",
    "masked_images = [PIL.Image.open(masked) for masked in masked_images]\n",
    "\n",
    "# Create image strips\n",
    "image_strips = []\n",
    "for i, image in enumerate(images):\n",
    "    image = image_wrapper(image, \"pil\")\n",
    "    masked_image = image_wrapper(masked_images[i], \"pil\")\n",
    "    image.concatenate(masked_image)\n",
    "    image_strips.append(image.to_pil())\n",
    "\n",
    "save_gif(\n",
    "    10.0,\n",
    "    image_strips,\n",
    "    0.25,\n",
    "    \"../ipynb/groundedsam_0.25x.gif\",\n",
    ")\n",
    "del images\n",
    "del masked_images\n",
    "del image_strips\n",
    "gc.collect()\n",
    "\n",
    "display_gif(\"../ipynb/groundedsam_0.25x.gif\")"
   ]
  }
 ],
 "metadata": {
  "kernelspec": {
   "display_name": "marching-waifu-x",
   "language": "python",
   "name": "python3"
  },
  "language_info": {
   "name": "python",
   "version": "3.10.11"
  },
  "orig_nbformat": 4
 },
 "nbformat": 4,
 "nbformat_minor": 2
}
