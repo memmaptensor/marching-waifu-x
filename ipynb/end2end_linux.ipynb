{
 "cells": [
  {
   "attachments": {},
   "cell_type": "markdown",
   "metadata": {},
   "source": [
    "### Setup"
   ]
  },
  {
   "attachments": {},
   "cell_type": "markdown",
   "metadata": {},
   "source": [
    "Run `setup.sh` (once) beforehand"
   ]
  },
  {
   "cell_type": "code",
   "execution_count": null,
   "metadata": {
    "vscode": {
     "languageId": "shellscript"
    }
   },
   "outputs": [],
   "source": [
    "# Setup torch and other prerequisites\n",
    "%cd ..\n",
    "!python -m pip install --upgrade pip\n",
    "!python -m pip install gdown ipykernel ipywidgets\n",
    "!python -m pip install torch torchvision torchaudio torchtext torchdata --index-url https://download.pytorch.org/whl/cu118\n",
    "\n",
    "# Update submodules\n",
    "!git submodule update --init --recursive\n",
    "\n",
    "# Create directories\n",
    "!mkdir data/checkpoints\n",
    "!mkdir data/dataset/diffusion\n",
    "!mkdir data/dataset/diffusion_upscaled\n",
    "!mkdir data/dataset/ngp/train\n",
    "!mkdir data/dataset/ngp/test\n",
    "!mkdir data/dataset/ngp_trained\n",
    "\n",
    "# Install requirements\n",
    "!python -m pip install -r requirements.txt\n",
    "\n",
    "# Setup RealESRGAN\n",
    "%cd ext/Real-ESRGAN\n",
    "!python -m pip install -r requirements.txt\n",
    "!python setup.py develop\n",
    "%cd ../..\n",
    "\n",
    "# Setup GroundingDINO + SegmentAnything\n",
    "%cd ext/Grounded-Segment-Anything\n",
    "!python -m pip install -q -r requirements.txt\n",
    "%cd GroundingDINO\n",
    "!python -m pip install -q .\n",
    "%cd ../segment_anything\n",
    "!python -m pip install -q .\n",
    "%cd ../../../..\n",
    "\n",
    "# Setup nvdiffrec\n",
    "!python -m pip install ninja imageio PyOpenGL glfw xatlas\n",
    "!python -m pip install git+https://github.com/NVlabs/nvdiffrast/\n",
    "!python -m pip install --global-option=\"--no-networks\" git+https://github.com/NVlabs/tiny-cuda-nn#subdirectory=bindings/torch\n",
    "!imageio_download_bin freeimage"
   ]
  },
  {
   "attachments": {},
   "cell_type": "markdown",
   "metadata": {},
   "source": [
    "### Imports"
   ]
  },
  {
   "cell_type": "code",
   "execution_count": null,
   "metadata": {
    "vscode": {
     "languageId": "shellscript"
    }
   },
   "outputs": [],
   "source": [
    "%cd marching-waifu-x/scripts"
   ]
  },
  {
   "cell_type": "code",
   "execution_count": null,
   "metadata": {},
   "outputs": [],
   "source": [
    "import sys\n",
    "\n",
    "sys.path.append(\"..\")\n",
    "\n",
    "import gc\n",
    "import glob\n",
    "import json\n",
    "import os\n",
    "\n",
    "import cv2\n",
    "import PIL.Image\n",
    "from IPython.display import Image\n",
    "\n",
    "from src.utils.image_wrapper import *"
   ]
  },
  {
   "attachments": {},
   "cell_type": "markdown",
   "metadata": {},
   "source": [
    "### ControlVideo"
   ]
  },
  {
   "cell_type": "code",
   "execution_count": null,
   "metadata": {},
   "outputs": [],
   "source": [
    "def save_gif(fps, images, scale, gif_path):\n",
    "    images = [image_wrapper(image, \"pil\").scale(scale).to_pil() for image in images]\n",
    "    images[0].save(\n",
    "        gif_path,\n",
    "        save_all=True,\n",
    "        append_images=images[1:],\n",
    "        optimize=True,\n",
    "        duration=len(images) / fps,\n",
    "        loop=0,\n",
    "    )\n",
    "\n",
    "\n",
    "def display_gif(gif_path):\n",
    "    display(Image(data=open(gif_path, \"rb\").read(), format=\"png\"))"
   ]
  },
  {
   "cell_type": "code",
   "execution_count": null,
   "metadata": {},
   "outputs": [],
   "source": [
    "with open(\"inference.json\", \"r\") as f:\n",
    "    conf = json.load(f)"
   ]
  },
  {
   "cell_type": "code",
   "execution_count": null,
   "metadata": {
    "vscode": {
     "languageId": "shellscript"
    }
   },
   "outputs": [],
   "source": [
    "!python inference_controlvideo.py --settings_path \"inference.json\" "
   ]
  },
  {
   "cell_type": "code",
   "execution_count": null,
   "metadata": {
    "vscode": {
     "languageId": "shellscript"
    }
   },
   "outputs": [],
   "source": [
    "!python inference_realesrgan.py --settings_path \"inference.json\""
   ]
  },
  {
   "cell_type": "code",
   "execution_count": null,
   "metadata": {},
   "outputs": [],
   "source": [
    "# Load images\n",
    "images = sorted(glob.glob(os.path.join(conf[\"paths\"][\"upscaled_path\"], \"*.png\")))\n",
    "images = [PIL.Image.open(image) for image in images]\n",
    "\n",
    "save_gif(10.0, images, 0.25, \"../ipynb/upscaled.gif\")\n",
    "del images\n",
    "gc.collect()\n",
    "\n",
    "display_gif(\"../ipynb/upscaled.gif\")"
   ]
  },
  {
   "attachments": {},
   "cell_type": "markdown",
   "metadata": {},
   "source": [
    "### GroundingDINO + SegmentAnything"
   ]
  },
  {
   "cell_type": "code",
   "execution_count": null,
   "metadata": {
    "vscode": {
     "languageId": "shellscript"
    }
   },
   "outputs": [],
   "source": [
    "!python inference_groundedsam.py --settings_path inference.json"
   ]
  },
  {
   "cell_type": "code",
   "execution_count": null,
   "metadata": {},
   "outputs": [],
   "source": [
    "# Load masked images\n",
    "masked_images = sorted(glob.glob(os.path.join(conf[\"paths\"][\"masked_path\"], \"*.png\")))\n",
    "masked_images = [PIL.Image.open(masked) for masked in masked_images]\n",
    "\n",
    "save_gif(\n",
    "    10.0,\n",
    "    masked_images,\n",
    "    0.25,\n",
    "    \"../ipynb/masked.gif\",\n",
    ")\n",
    "del masked_images\n",
    "gc.collect()\n",
    "\n",
    "display_gif(\"../ipynb/masked.gif\")"
   ]
  },
  {
   "cell_type": "code",
   "execution_count": null,
   "metadata": {
    "vscode": {
     "languageId": "shellscript"
    }
   },
   "outputs": [],
   "source": [
    "!cp -a ../data/dataset/ngp/train/. ../data/dataset/ngp/test/"
   ]
  },
  {
   "attachments": {},
   "cell_type": "markdown",
   "metadata": {},
   "source": [
    "### nvdiffrec"
   ]
  },
  {
   "cell_type": "code",
   "execution_count": null,
   "metadata": {
    "vscode": {
     "languageId": "shellscript"
    }
   },
   "outputs": [],
   "source": [
    "!python train_nvdiffrec.py --config train_nvdiffrec.json"
   ]
  }
 ],
 "metadata": {
  "kernelspec": {
   "display_name": "marching-waifu-x",
   "language": "python",
   "name": "python3"
  },
  "language_info": {
   "name": "python",
   "version": "3.10.11"
  },
  "orig_nbformat": 4
 },
 "nbformat": 4,
 "nbformat_minor": 2
}
