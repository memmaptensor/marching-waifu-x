{
 "cells": [
  {
   "attachments": {},
   "cell_type": "markdown",
   "metadata": {},
   "source": [
    "### Setup"
   ]
  },
  {
   "attachments": {},
   "cell_type": "markdown",
   "metadata": {},
   "source": [
    "Run `setup.sh` (once) beforehand"
   ]
  },
  {
   "cell_type": "code",
   "execution_count": null,
   "metadata": {
    "vscode": {
     "languageId": "shellscript"
    }
   },
   "outputs": [],
   "source": [
    "# Setup torch and other prerequisites\n",
    "%cd ..\n",
    "!python -m pip install --upgrade pip\n",
    "!python -m pip install gdown ipykernel ipywidgets\n",
    "!python -m pip install torch torchvision torchaudio torchtext torchdata --index-url https://download.pytorch.org/whl/cu118\n",
    "\n",
    "# Update submodules\n",
    "!git submodule update --init --recursive\n",
    "\n",
    "# Create directories\n",
    "!mkdir data/checkpoints\n",
    "!mkdir data/dataset/diffusion\n",
    "!mkdir data/dataset/diffusion_upscaled\n",
    "!mkdir data/dataset/ngp/train\n",
    "!mkdir data/dataset/ngp_trained\n",
    "\n",
    "# Install requirements\n",
    "!python -m pip install -r requirements.txt\n",
    "\n",
    "# Setup RealESRGAN\n",
    "%cd ext/Real-ESRGAN\n",
    "!python -m pip install -r requirements.txt\n",
    "!python setup.py develop\n",
    "%cd ../..\n",
    "\n",
    "# Setup GroundingDINO + SegmentAnything\n",
    "%cd ext/Grounded-Segment-Anything\n",
    "!python -m pip install -q -r requirements.txt\n",
    "%cd GroundingDINO\n",
    "!python -m pip install -q .\n",
    "%cd ../segment_anything\n",
    "!python -m pip install -q .\n",
    "%cd ../../..\n",
    "\n",
    "# Setup InstantNGP\n",
    "%cd ext/instant-ngp\n",
    "!apt update\n",
    "!apt install build-essential git python3-dev python3-pip libopenexr-dev libxi-dev libglfw3-dev libglew-dev libomp-dev libxinerama-dev libxcursor-dev colmap ffmpeg jq\n",
    "!python -m pip install --upgrade cmake\n",
    "compute_capability = \"70\"\n",
    "%env TCNN_CUDA_ARCHITECTURES=$compute_capability\n",
    "network_type = \"FullyFusedMLP\" if int(compute_capability) >= 70 else \"CutlassMLP\"\n",
    "print(f\"Using {network_type}\")\n",
    "%env NN_CONFIG_PATH = ./configs/nerf/base.json\n",
    "!jq '.network.otype = \"CutlassMLP\" | .rgb_network.otype = \"CutlassMLP\"' $NN_CONFIG_PATH | sponge $NN_CONFIG_PATH\n",
    "!cmake . -B build -DNGP_BUILD_WITH_GUI=OFF\n",
    "!cmake --build build --config RelWithDebInfo -j `nproc`\n",
    "!pip3 install -r requirements.txt\n",
    "%cd ../.."
   ]
  },
  {
   "attachments": {},
   "cell_type": "markdown",
   "metadata": {},
   "source": [
    "### Imports"
   ]
  },
  {
   "cell_type": "code",
   "execution_count": null,
   "metadata": {
    "vscode": {
     "languageId": "shellscript"
    }
   },
   "outputs": [],
   "source": [
    "%cd scripts"
   ]
  },
  {
   "cell_type": "code",
   "execution_count": null,
   "metadata": {},
   "outputs": [],
   "source": [
    "import sys\n",
    "\n",
    "sys.path.append(\"..\")\n",
    "\n",
    "import gc\n",
    "import glob\n",
    "import json\n",
    "import os\n",
    "\n",
    "import cv2\n",
    "import PIL.Image\n",
    "from IPython.display import Image\n",
    "\n",
    "from src.utils.image_wrapper import *"
   ]
  },
  {
   "attachments": {},
   "cell_type": "markdown",
   "metadata": {},
   "source": [
    "### ControlVideo"
   ]
  },
  {
   "cell_type": "code",
   "execution_count": null,
   "metadata": {},
   "outputs": [],
   "source": [
    "def save_gif(fps, images, scale, gif_path):\n",
    "    images = [image_wrapper(image, \"pil\").scale(scale).to_pil() for image in images]\n",
    "    images[0].save(\n",
    "        gif_path,\n",
    "        save_all=True,\n",
    "        append_images=images[1:],\n",
    "        optimize=True,\n",
    "        duration=len(images) / fps,\n",
    "        loop=0,\n",
    "    )\n",
    "\n",
    "\n",
    "def display_gif(gif_path):\n",
    "    display(Image(data=open(gif_path, \"rb\").read(), format=\"png\"))"
   ]
  },
  {
   "cell_type": "code",
   "execution_count": null,
   "metadata": {},
   "outputs": [],
   "source": [
    "with open(\"inference.json\", \"r\") as f:\n",
    "    conf = json.load(f)"
   ]
  },
  {
   "cell_type": "code",
   "execution_count": null,
   "metadata": {
    "vscode": {
     "languageId": "shellscript"
    }
   },
   "outputs": [],
   "source": [
    "!python inference_controlvideo.py --settings_path \"inference.json\" "
   ]
  },
  {
   "cell_type": "code",
   "execution_count": null,
   "metadata": {
    "vscode": {
     "languageId": "shellscript"
    }
   },
   "outputs": [],
   "source": [
    "!python inference_realesrgan.py --settings_path \"inference.json\""
   ]
  },
  {
   "cell_type": "code",
   "execution_count": null,
   "metadata": {},
   "outputs": [],
   "source": [
    "# Load images\n",
    "images = sorted(glob.glob(os.path.join(conf[\"paths\"][\"upscaled_path\"], \"*.png\")))\n",
    "images = [PIL.Image.open(image) for image in images]\n",
    "\n",
    "save_gif(10.0, images, 0.25, \"../ipynb/upscaled.gif\")\n",
    "del images\n",
    "gc.collect()\n",
    "\n",
    "display_gif(\"../ipynb/upscaled.gif\")"
   ]
  },
  {
   "attachments": {},
   "cell_type": "markdown",
   "metadata": {},
   "source": [
    "### GroundingDINO + SegmentAnything"
   ]
  },
  {
   "cell_type": "code",
   "execution_count": null,
   "metadata": {
    "vscode": {
     "languageId": "shellscript"
    }
   },
   "outputs": [],
   "source": [
    "!python inference_groundedsam.py --settings_path inference.json"
   ]
  },
  {
   "cell_type": "code",
   "execution_count": null,
   "metadata": {},
   "outputs": [],
   "source": [
    "# Load masked images\n",
    "masked_images = sorted(glob.glob(os.path.join(conf[\"paths\"][\"masked_path\"], \"*.png\")))\n",
    "masked_images = [PIL.Image.open(masked) for masked in masked_images]\n",
    "\n",
    "save_gif(\n",
    "    10.0,\n",
    "    masked_images,\n",
    "    0.25,\n",
    "    \"../ipynb/masked.gif\",\n",
    ")\n",
    "del masked_images\n",
    "gc.collect()\n",
    "\n",
    "display_gif(\"../ipynb/masked.gif\")"
   ]
  },
  {
   "cell_type": "code",
   "execution_count": null,
   "metadata": {
    "vscode": {
     "languageId": "shellscript"
    }
   },
   "outputs": [],
   "source": [
    "!cp -a ../data/dataset/ngp/train/. ../data/dataset/ngp/test/"
   ]
  },
  {
   "attachments": {},
   "cell_type": "markdown",
   "metadata": {},
   "source": [
    "### InstantNGP"
   ]
  },
  {
   "cell_type": "code",
   "execution_count": null,
   "metadata": {
    "vscode": {
     "languageId": "shellscript"
    }
   },
   "outputs": [],
   "source": [
    "%cd ../ext/instant-ngp"
   ]
  },
  {
   "cell_type": "code",
   "execution_count": null,
   "metadata": {
    "vscode": {
     "languageId": "shellscript"
    }
   },
   "outputs": [],
   "source": [
    "!python scripts/run.py \\\n",
    "    ../../data/dataset/ngp \\\n",
    "    --n_steps 5000 \\\n",
    "    --save_snapshot ../../data/dataset/ngp_trained.ingp \\\n",
    "    --sharpen 1.0"
   ]
  },
  {
   "cell_type": "code",
   "execution_count": null,
   "metadata": {
    "vscode": {
     "languageId": "shellscript"
    }
   },
   "outputs": [],
   "source": [
    "!python scripts/run.py \\\n",
    "    --load_snapshot ../../data/dataset/ngp_trained \\\n",
    "    --sharpen 1.0 \\\n",
    "    --video_camera_path ../../data/dataset/ngp/base_cam.json \\\n",
    "    --video_n_seconds 10 \\\n",
    "    --video_fps 24 \\\n",
    "    --width 3072 \\\n",
    "    --height 4096 \\\n",
    "    --video_output ../../data/dataset/ngp_trained.mp4"
   ]
  },
  {
   "attachments": {},
   "cell_type": "markdown",
   "metadata": {},
   "source": [
    "### Evaluation"
   ]
  },
  {
   "cell_type": "code",
   "execution_count": null,
   "metadata": {},
   "outputs": [],
   "source": [
    "video = cv2.VideoCapture(\"../../data/dataset/ngp_trained.mp4\")\n",
    "success, image = video.read()\n",
    "if success:\n",
    "    cv2.imwrite(\"../../data/dataset/first_frame.png\", image)"
   ]
  },
  {
   "cell_type": "code",
   "execution_count": null,
   "metadata": {
    "vscode": {
     "languageId": "shellscript"
    }
   },
   "outputs": [],
   "source": [
    "!python evaluation.py --settings_path evaluation.json"
   ]
  }
 ],
 "metadata": {
  "kernelspec": {
   "display_name": "marching-waifu-x",
   "language": "python",
   "name": "python3"
  },
  "language_info": {
   "name": "python",
   "version": "3.10.11"
  },
  "orig_nbformat": 4
 },
 "nbformat": 4,
 "nbformat_minor": 2
}
