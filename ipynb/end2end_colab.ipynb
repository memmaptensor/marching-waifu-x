{
 "cells": [
  {
   "attachments": {},
   "cell_type": "markdown",
   "metadata": {},
   "source": [
    "### Setup"
   ]
  },
  {
   "cell_type": "code",
   "execution_count": null,
   "metadata": {
    "vscode": {
     "languageId": "shellscript"
    }
   },
   "outputs": [],
   "source": [
    "# Clone main repo\n",
    "!git clone https://github.com/rossiyareich/marching-waifu-x.git\n",
    "%cd marching-waifu-x\n",
    "\n",
    "# Update submodules\n",
    "!git submodule update --init --recursive\n",
    "\n",
    "# Create directories\n",
    "!mkdir data/checkpoints\n",
    "!mkdir data/dataset/diffusion\n",
    "!mkdir data/dataset/nerf/train\n",
    "!mkdir data/dataset/nerf/test\n",
    "!mkdir data/dataset/nerf_output\n",
    "!mkdir data/dataset/ngp/train\n",
    "!mkdir data/dataset/ngp_output\n",
    "!mkdir data/dataset/ngp_output/frames\n",
    "\n",
    "# Install requirements\n",
    "!python -m pip install -r requirements.txt\n",
    "\n",
    "# Setup GroundingDINO + SegmentAnything\n",
    "%cd ext/Grounded-Segment-Anything\n",
    "!python -m pip install -q -r requirements.txt\n",
    "%cd GroundingDINO\n",
    "!python -m pip install -q .\n",
    "%cd ../segment_anything\n",
    "!python -m pip install -q .\n",
    "%cd ../../..\n",
    "\n",
    "# Setup nvdiffrec\n",
    "!python -m pip install ninja imageio PyOpenGL glfw xatlas gdown\n",
    "!python -m pip install git+https://github.com/NVlabs/nvdiffrast/\n",
    "!python -m pip install --global-option=\"--no-networks\" git+https://github.com/NVlabs/tiny-cuda-nn#subdirectory=bindings/torch\n",
    "!imageio_download_bin freeimage\n",
    "\n",
    "# Setup InstantNGP\n",
    "!apt update\n",
    "!apt install build-essential git python3-dev python3-pip libopenexr-dev libxi-dev libglfw3-dev libglew-dev libomp-dev libxinerama-dev libxcursor-dev colmap ffmpeg jq\n",
    "!python -m pip install --upgrade cmake\n",
    "%cd ext/instant-ngp\n",
    "\n",
    "compute_capability = \"75\" #@param [50, 52, 60, 61, 70, 72, 75, 80, 86, 87]\n",
    "%env TCNN_CUDA_ARCHITECTURES=$compute_capability\n",
    "\n",
    "network_type = \"FullyFusedMLP\" if int(compute_capability) >= 70 else \"CutlassMLP\"\n",
    "print(f\"Using {network_type}\")\n",
    "%env NN_CONFIG_PATH = ./configs/nerf/base.json\n",
    "!jq '.network.otype = \"CutlassMLP\" | .rgb_network.otype = \"CutlassMLP\"' $NN_CONFIG_PATH | sponge $NN_CONFIG_PATH\n",
    "\n",
    "!cmake . -B build -DNGP_BUILD_WITH_GUI=OFF\n",
    "!cmake --build build --config RelWithDebInfo -j `nproc`\n",
    "!python -m pip install -r requirements.txt\n",
    "%cd ../../ipynb"
   ]
  },
  {
   "attachments": {},
   "cell_type": "markdown",
   "metadata": {},
   "source": [
    "### Imports"
   ]
  },
  {
   "cell_type": "code",
   "execution_count": null,
   "metadata": {
    "vscode": {
     "languageId": "shellscript"
    }
   },
   "outputs": [],
   "source": [
    "%cd ../scripts"
   ]
  },
  {
   "cell_type": "code",
   "execution_count": null,
   "metadata": {},
   "outputs": [],
   "source": [
    "import sys\n",
    "\n",
    "sys.path.append(\"..\")\n",
    "\n",
    "import gc\n",
    "import glob\n",
    "import json\n",
    "import os\n",
    "\n",
    "import cv2\n",
    "from huggingface_hub import notebook_login\n",
    "import PIL.Image\n",
    "from IPython.display import Image\n",
    "\n",
    "from src.utils.image_wrapper import *"
   ]
  },
  {
   "cell_type": "code",
   "execution_count": null,
   "metadata": {},
   "outputs": [],
   "source": [
    "notebook_login()"
   ]
  },
  {
   "attachments": {},
   "cell_type": "markdown",
   "metadata": {},
   "source": [
    "### ControlVideo"
   ]
  },
  {
   "cell_type": "code",
   "execution_count": null,
   "metadata": {},
   "outputs": [],
   "source": [
    "def save_gif(fps, images, scale, gif_path):\n",
    "    images = [image_wrapper(image, \"pil\").scale(scale).to_pil() for image in images]\n",
    "    images[0].save(\n",
    "        gif_path,\n",
    "        save_all=True,\n",
    "        append_images=images[1:],\n",
    "        optimize=True,\n",
    "        duration=len(images) / fps,\n",
    "        loop=0,\n",
    "    )\n",
    "\n",
    "\n",
    "def display_gif(gif_path):\n",
    "    display(Image(data=open(gif_path, \"rb\").read(), format=\"png\"))"
   ]
  },
  {
   "cell_type": "code",
   "execution_count": null,
   "metadata": {},
   "outputs": [],
   "source": [
    "with open(\"inference.json\", \"r\") as f:\n",
    "    conf = json.load(f)"
   ]
  },
  {
   "cell_type": "code",
   "execution_count": null,
   "metadata": {
    "vscode": {
     "languageId": "shellscript"
    }
   },
   "outputs": [],
   "source": [
    "!python inference_controlvideo.py --settings_path \"inference.json\" "
   ]
  },
  {
   "cell_type": "code",
   "execution_count": null,
   "metadata": {},
   "outputs": [],
   "source": [
    "# Load images\n",
    "images = sorted(glob.glob(os.path.join(conf[\"paths\"][\"diffusion_output_path\"], \"*.png\")))\n",
    "images = [PIL.Image.open(image) for image in images]\n",
    "\n",
    "save_gif(\n",
    "    10.0,\n",
    "    images,\n",
    "    1.0,\n",
    "    \"../ipynb/diffusion.gif\",\n",
    ")\n",
    "del images\n",
    "gc.collect()\n",
    "\n",
    "display_gif(\"../ipynb/diffusion.gif\")"
   ]
  },
  {
   "attachments": {},
   "cell_type": "markdown",
   "metadata": {},
   "source": [
    "### GroundingDINO + SegmentAnything"
   ]
  },
  {
   "cell_type": "code",
   "execution_count": null,
   "metadata": {
    "vscode": {
     "languageId": "shellscript"
    }
   },
   "outputs": [],
   "source": [
    "!python inference_groundedsam.py --settings_path inference.json"
   ]
  },
  {
   "cell_type": "code",
   "execution_count": null,
   "metadata": {},
   "outputs": [],
   "source": [
    "# Load masked images\n",
    "masked_images = sorted(glob.glob(os.path.join(conf[\"paths\"][\"masked_path\"], \"*.png\")))\n",
    "masked_images = [PIL.Image.open(image) for image in images]\n",
    "\n",
    "save_gif(\n",
    "    10.0,\n",
    "    masked_images,\n",
    "    1.0,\n",
    "    \"../ipynb/masked.gif\",\n",
    ")\n",
    "del masked_images\n",
    "gc.collect()\n",
    "\n",
    "display_gif(\"../ipynb/masked.gif\")"
   ]
  },
  {
   "cell_type": "code",
   "execution_count": null,
   "metadata": {
    "vscode": {
     "languageId": "shellscript"
    }
   },
   "outputs": [],
   "source": [
    "!cp -r ../data/dataset/ngp/train/. ../data/dataset/nerf/train\n",
    "!cp -r ../data/dataset/ngp/train/. ../data/dataset/nerf/test"
   ]
  },
  {
   "attachments": {},
   "cell_type": "markdown",
   "metadata": {},
   "source": [
    "### nvdiffrec"
   ]
  },
  {
   "cell_type": "code",
   "execution_count": null,
   "metadata": {
    "vscode": {
     "languageId": "shellscript"
    }
   },
   "outputs": [],
   "source": [
    "!cp -r ../data/dataset/nerf ../ext/nvdiffrec/data\n",
    "!cp -r nvdiffrec.json ../ext/nvdiffrec/configs"
   ]
  },
  {
   "cell_type": "code",
   "execution_count": null,
   "metadata": {
    "vscode": {
     "languageId": "shellscript"
    }
   },
   "outputs": [],
   "source": [
    "%cd ../ext/nvdiffrec\n",
    "!python train.py --config configs/nvdiffrec.json\n",
    "%cd ../../scripts\n",
    "!cp -r ../ext/nvdiffrec/nerf_output/. ../data/dataset/nerf_output"
   ]
  },
  {
   "attachments": {},
   "cell_type": "markdown",
   "metadata": {},
   "source": [
    "### InstantNGP"
   ]
  },
  {
   "cell_type": "code",
   "execution_count": null,
   "metadata": {
    "vscode": {
     "languageId": "shellscript"
    }
   },
   "outputs": [],
   "source": [
    "%cd ../ext/instant-ngp"
   ]
  },
  {
   "cell_type": "code",
   "execution_count": null,
   "metadata": {},
   "outputs": [],
   "source": [
    "training_data = \"../../data/dataset/ngp\"\n",
    "snapshot = \"../../data/dataset/ngp_output/results.ingp\"\n",
    "sharpen = 1.0\n",
    "n_steps = 5000\n",
    "\n",
    "video_camera_path = \"../../data/dataset/ngp/base_cam.json\"\n",
    "video_fps = 10\n",
    "video_n_seconds = 10\n",
    "video_output = \"../../ipynb/ngp.mp4\"\n",
    "width, height = 768, 1024"
   ]
  },
  {
   "cell_type": "code",
   "execution_count": null,
   "metadata": {
    "vscode": {
     "languageId": "shellscript"
    }
   },
   "outputs": [],
   "source": [
    "!python ./scripts/run.py \\\n",
    "    --training_data {training_data} \\\n",
    "    --save_snapshot {snapshot} \\\n",
    "    --n_steps {n_steps} \\\n",
    "    --sharpen {sharpen}"
   ]
  },
  {
   "cell_type": "code",
   "execution_count": null,
   "metadata": {
    "vscode": {
     "languageId": "shellscript"
    }
   },
   "outputs": [],
   "source": [
    "!python ./scripts/run.py \\\n",
    "    {snapshot} \\\n",
    "    --video_camera_path {video_camera_path} \\\n",
    "    --video_fps {video_fps} \\\n",
    "    --video_n_seconds {video_n_seconds} \\\n",
    "    --video_output {video_output} \\\n",
    "    --width {width} \\\n",
    "    --height {height} \\\n",
    "    --sharpen {sharpen}"
   ]
  },
  {
   "cell_type": "code",
   "execution_count": null,
   "metadata": {
    "vscode": {
     "languageId": "shellscript"
    }
   },
   "outputs": [],
   "source": [
    "%cd ../../scripts"
   ]
  },
  {
   "cell_type": "code",
   "execution_count": null,
   "metadata": {},
   "outputs": [],
   "source": [
    "video_output_cv2 = \"../ipynb/ngp.mp4\"\n",
    "frames_cv2 = \"../data/dataset/ngp_output/frames\"\n",
    "\n",
    "vc = cv2.VideoCapture(video_output_cv2)\n",
    "success, cv2_img = vc.read()\n",
    "count = 0\n",
    "while success:\n",
    "    frame_path = os.path.join(frames_cv2, f\"ngp{count}.png\")\n",
    "    cv2.imwrite(frame_path, cv2_img)\n",
    "    success, cv2_img = vc.read()\n",
    "    print(f\"Saved frame {cv2_img}, {success}\")\n",
    "    count += 1"
   ]
  },
  {
   "attachments": {},
   "cell_type": "markdown",
   "metadata": {},
   "source": [
    "### Evaluation"
   ]
  },
  {
   "cell_type": "code",
   "execution_count": null,
   "metadata": {
    "vscode": {
     "languageId": "shellscript"
    }
   },
   "outputs": [],
   "source": [
    "!python evaluation.py --settings_path evaluation.json --path ../data/dataset/ngp/train/*.png"
   ]
  },
  {
   "cell_type": "code",
   "execution_count": null,
   "metadata": {
    "vscode": {
     "languageId": "shellscript"
    }
   },
   "outputs": [],
   "source": [
    "!python evaluation.py --settings_path evaluation.json --path ../data/dataset/ngp_output/ngp*.png"
   ]
  },
  {
   "cell_type": "code",
   "execution_count": null,
   "metadata": {
    "vscode": {
     "languageId": "shellscript"
    }
   },
   "outputs": [],
   "source": [
    "!python evaluation.py --settings_path evaluation.json --path ../data/dataset/nerf_output/opt*.png"
   ]
  }
 ],
 "metadata": {
  "kernelspec": {
   "display_name": "marching-waifu",
   "language": "python",
   "name": "python3"
  },
  "language_info": {
   "codemirror_mode": {
    "name": "ipython",
    "version": 3
   },
   "file_extension": ".py",
   "mimetype": "text/x-python",
   "name": "python",
   "nbconvert_exporter": "python",
   "pygments_lexer": "ipython3",
   "version": "3.10.11"
  },
  "orig_nbformat": 4
 },
 "nbformat": 4,
 "nbformat_minor": 2
}
