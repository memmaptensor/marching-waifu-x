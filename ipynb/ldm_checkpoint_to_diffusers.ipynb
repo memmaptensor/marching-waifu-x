{
 "cells": [
  {
   "attachments": {},
   "cell_type": "markdown",
   "metadata": {},
   "source": [
    "# Convert LDM checkpoints to huggingface/diffusers models"
   ]
  },
  {
   "attachments": {},
   "cell_type": "markdown",
   "metadata": {},
   "source": [
    "### Installation"
   ]
  },
  {
   "attachments": {},
   "cell_type": "markdown",
   "metadata": {},
   "source": [
    "Only for colab"
   ]
  },
  {
   "cell_type": "code",
   "execution_count": null,
   "metadata": {},
   "outputs": [],
   "source": [
    "!git clone https://github.com/rossiyareich/marching-waifu.git\n",
    "%cd marching-waifu"
   ]
  },
  {
   "cell_type": "code",
   "execution_count": null,
   "metadata": {},
   "outputs": [],
   "source": [
    "from huggingface_hub import notebook_login\n",
    "\n",
    "notebook_login()"
   ]
  },
  {
   "attachments": {},
   "cell_type": "markdown",
   "metadata": {},
   "source": [
    "Only for local install (run `setup.sh` or `setup.bat` and `huggingface-cli login` beforehand!)"
   ]
  },
  {
   "cell_type": "code",
   "execution_count": null,
   "metadata": {},
   "outputs": [],
   "source": [
    "%cd ../"
   ]
  },
  {
   "attachments": {},
   "cell_type": "markdown",
   "metadata": {},
   "source": [
    "Project setup"
   ]
  },
  {
   "cell_type": "code",
   "execution_count": null,
   "metadata": {},
   "outputs": [],
   "source": [
    "!nvidia-smi"
   ]
  },
  {
   "cell_type": "code",
   "execution_count": null,
   "metadata": {},
   "outputs": [],
   "source": [
    "# Install requirements\n",
    "!python -m pip install -r requirements.txt"
   ]
  },
  {
   "cell_type": "code",
   "execution_count": null,
   "metadata": {},
   "outputs": [],
   "source": [
    "%cd scripts"
   ]
  },
  {
   "cell_type": "code",
   "execution_count": null,
   "metadata": {},
   "outputs": [],
   "source": [
    "import sys\n",
    "\n",
    "sys.path.append(\"..\")"
   ]
  },
  {
   "attachments": {},
   "cell_type": "markdown",
   "metadata": {},
   "source": [
    "### Getting the original LDM checkpoints"
   ]
  },
  {
   "cell_type": "code",
   "execution_count": null,
   "metadata": {},
   "outputs": [],
   "source": [
    "import gdown\n",
    "\n",
    "url = \"https://drive.google.com/file/d/1cVP7jaLowGlW82UEHPJxJrFykkBD8PZi/\"\n",
    "gdown.download(url, output=\"data/models/models.tar.gz\")\n",
    "\n",
    "%cd data/models/\n",
    "!tar -xzf data/models/models.tar.gz\n",
    "%cd ../../"
   ]
  },
  {
   "attachments": {},
   "cell_type": "markdown",
   "metadata": {},
   "source": [
    "### Conversion"
   ]
  },
  {
   "cell_type": "code",
   "execution_count": null,
   "metadata": {},
   "outputs": [],
   "source": [
    "models = [\n",
    "    {\n",
    "        \"checkpoint_path\": \"../data/models/Nabylon-v1.0-fp16.safetensors\",\n",
    "        \"original_config_file\": \"../data/models/v1-inference.yaml\",\n",
    "        \"extract_ema\": True,\n",
    "        \"from_safetensors\": True,\n",
    "        \"to_safetensors\": True,\n",
    "        \"dump_path\": \"../data/models/Nabylon-v1.0-fp16\",\n",
    "        \"device\": \"cuda:0\",\n",
    "        \"half\": True,\n",
    "    },\n",
    "    {\n",
    "        \"checkpoint_path\": \"../data/models/Nabylon-v1.0-fp16-inpainting.safetensors\",\n",
    "        \"original_config_file\": \"../data/models/v1-inpainting-inference.yaml\",\n",
    "        \"extract_ema\": True,\n",
    "        \"from_safetensors\": True,\n",
    "        \"to_safetensors\": True,\n",
    "        \"dump_path\": \"../data/models/Nabylon-v1.0-fp16-inpainting\",\n",
    "        \"device\": \"cuda:0\",\n",
    "        \"half\": True,\n",
    "    },\n",
    "]"
   ]
  },
  {
   "cell_type": "code",
   "execution_count": null,
   "metadata": {},
   "outputs": [],
   "source": [
    "import json\n",
    "\n",
    "with open(\"ldm.json\", \"w\") as f:\n",
    "    json.dump(models, f, indent=4)"
   ]
  },
  {
   "cell_type": "code",
   "execution_count": null,
   "metadata": {},
   "outputs": [],
   "source": [
    "!python ldm_checkpoint_to_diffusers.py"
   ]
  },
  {
   "attachments": {},
   "cell_type": "markdown",
   "metadata": {},
   "source": [
    "### Uploading converted models to huggingface"
   ]
  },
  {
   "cell_type": "code",
   "execution_count": null,
   "metadata": {},
   "outputs": [],
   "source": [
    "from huggingface_hub import HfApi\n",
    "\n",
    "api = HfApi()\n",
    "\n",
    "api.upload_folder(folder_path=\"data/models/Nabylon-v1.0-fp16\", repo_id=\"rossiyareich/Nabylon-v1.0-fp16\")\n",
    "api.upload_folder(folder_path=\"data/models/Nabylon-v1.0-fp16-inpainting\", repo_id=\"rossiyareich/Nabylon-v1.0-fp16-inpainting\")"
   ]
  }
 ],
 "metadata": {
  "kernelspec": {
   "display_name": "marching-waifu",
   "language": "python",
   "name": "python3"
  },
  "language_info": {
   "name": "python",
   "version": "3.11.3"
  },
  "orig_nbformat": 4
 },
 "nbformat": 4,
 "nbformat_minor": 2
}
