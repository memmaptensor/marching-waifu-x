{
 "cells": [
  {
   "attachments": {},
   "cell_type": "markdown",
   "metadata": {},
   "source": [
    "# ControlVideo"
   ]
  },
  {
   "attachments": {},
   "cell_type": "markdown",
   "metadata": {},
   "source": [
    "### Installation"
   ]
  },
  {
   "attachments": {},
   "cell_type": "markdown",
   "metadata": {},
   "source": [
    "Only for colab"
   ]
  },
  {
   "cell_type": "code",
   "execution_count": null,
   "metadata": {
    "vscode": {
     "languageId": "shellscript"
    }
   },
   "outputs": [],
   "source": [
    "!git clone --recurse-submodules https://github.com/rossiyareich/marching-waifu-x.git\n",
    "%cd marching-waifu-x"
   ]
  },
  {
   "attachments": {},
   "cell_type": "markdown",
   "metadata": {},
   "source": [
    "Only for local install (run `setup-n.sh` or `setup.bat` and `huggingface-cli login` beforehand!)"
   ]
  },
  {
   "cell_type": "code",
   "execution_count": null,
   "metadata": {
    "vscode": {
     "languageId": "shellscript"
    }
   },
   "outputs": [],
   "source": [
    "%cd ../"
   ]
  },
  {
   "attachments": {},
   "cell_type": "markdown",
   "metadata": {},
   "source": [
    "Project setup"
   ]
  },
  {
   "cell_type": "code",
   "execution_count": null,
   "metadata": {
    "vscode": {
     "languageId": "shellscript"
    }
   },
   "outputs": [],
   "source": [
    "!nvidia-smi\n",
    "\n",
    "# Install requirements\n",
    "!python -m pip install -r requirements.txt\n",
    "!python -m pip install -r ext/Real-ESRGAN/requirements.txt\n",
    "\n",
    "# Create directories\n",
    "!mkdir data/dataset/nerf/original/\n",
    "!mkdir data/dataset/nerf/train/\n",
    "\n",
    "# Install local packages\n",
    "%cd ext/Real-ESRGAN/\n",
    "!python setup.py develop\n",
    "%cd ../../"
   ]
  },
  {
   "cell_type": "code",
   "execution_count": null,
   "metadata": {
    "vscode": {
     "languageId": "shellscript"
    }
   },
   "outputs": [],
   "source": [
    "%cd scripts"
   ]
  },
  {
   "cell_type": "code",
   "execution_count": null,
   "metadata": {},
   "outputs": [],
   "source": [
    "import sys\n",
    "\n",
    "sys.path.append(\"..\")"
   ]
  },
  {
   "cell_type": "code",
   "execution_count": null,
   "metadata": {},
   "outputs": [],
   "source": [
    "from huggingface_hub import notebook_login\n",
    "\n",
    "notebook_login()"
   ]
  },
  {
   "attachments": {},
   "cell_type": "markdown",
   "metadata": {},
   "source": [
    "### Configuration"
   ]
  },
  {
   "cell_type": "code",
   "execution_count": null,
   "metadata": {},
   "outputs": [],
   "source": [
    "import json\n",
    "\n",
    "controlvideo_conf = \"\"\"\n",
    "{\n",
    "    \"paths\": {\n",
    "        \"out_path\": \"../data/dataset/nerf/original/\",\n",
    "        \"cache_dir\": \"../data/checkpoints/\",\n",
    "        \"ifnet_path\": \"../data/checkpoints/flownet.pkl\",\n",
    "        \"condition_path\": \"../data/dataset/conditioning/\",\n",
    "        \"textual_inversion_path\": \"../data/embeddings/\"\n",
    "    },\n",
    "    \"repositories\": {\n",
    "        \"sd\": \"rossiyareich/Nabylon-v1.0-fp16\",\n",
    "        \"vae\": \"stabilityai/sd-vae-ft-mse\"\n",
    "    },\n",
    "    \"controlnet\": {\n",
    "        \"scales\": [0.9, 0.8, 0.8, 0.7],\n",
    "        \"exp\": 0.825,\n",
    "        \"pipe\": {\n",
    "            \"openpose_full\": \"lllyasviel/control_v11p_sd15_openpose\",\n",
    "            \"depth\": \"lllyasviel/control_v11f1p_sd15_depth\",\n",
    "            \"normals\": \"lllyasviel/control_v11p_sd15_normalbae\",\n",
    "            \"lineart\": \"lllyasviel/control_v11p_sd15_lineart\"\n",
    "        }\n",
    "    },\n",
    "    \"video\": {\n",
    "        \"num_inference_steps\": 20,\n",
    "        \"guidance_scale\": 10.0,\n",
    "        \"smooth_steps\": [14, 15],\n",
    "        \"seed\": null,\n",
    "        \"same_frame_noise\": false,\n",
    "        \"length\": 64,\n",
    "        \"keyframes\": {\n",
    "            \"frames\": [0, 7, 15, 23, 31, 39, 47, 55, 63],\n",
    "            \"prompt\": \"(masterpiece, best quality)+, 1girl, white hoodie, earmuffs, leggings, white scarf, black gloves, white socks, short blue hair, blue eyes, bangs\",\n",
    "            \"negative_prompt\": \"EasyNegative, (worst quality, low quality, logo, text, watermark, username, nsfw), inaccurate hands and fingers\"\n",
    "        },\n",
    "        \"clips\": [\n",
    "            {\n",
    "                \"attn_frames\": [0, 7],\n",
    "                \"clip_frames\": [1, 2, 3, 4, 5, 6],\n",
    "                \"prompt\": \"(masterpiece, best quality)+, 1girl, white hoodie, earmuffs, leggings, white scarf, black gloves, white socks, short blue hair, blue eyes, bangs\",\n",
    "                \"negative_prompt\": \"EasyNegative, (worst quality, low quality, logo, text, watermark, username, nsfw), inaccurate hands and fingers\"\n",
    "            },\n",
    "            {\n",
    "                \"attn_frames\": [7, 15],\n",
    "                \"clip_frames\": [8, 9, 10, 11, 12, 13, 14],\n",
    "                \"prompt\": \"(masterpiece, best quality)+, 1girl, white hoodie, earmuffs, leggings, white scarf, black gloves, white socks, short blue hair, blue eyes, bangs\",\n",
    "                \"negative_prompt\": \"EasyNegative, (worst quality, low quality, logo, text, watermark, username, nsfw), inaccurate hands and fingers\"\n",
    "            },\n",
    "            {\n",
    "                \"attn_frames\": [15, 23],\n",
    "                \"clip_frames\": [16, 17, 18, 19, 20, 21, 22],\n",
    "                \"prompt\": \"(masterpiece, best quality)+, 1girl, white hoodie, earmuffs, leggings, white scarf, black gloves, white socks, short blue hair, blue eyes, bangs\",\n",
    "                \"negative_prompt\": \"EasyNegative, (worst quality, low quality, logo, text, watermark, username, nsfw), inaccurate hands and fingers\"\n",
    "            },\n",
    "            {\n",
    "                \"attn_frames\": [23, 31],\n",
    "                \"clip_frames\": [24, 25, 26, 27, 28, 29, 30],\n",
    "                \"prompt\": \"(masterpiece, best quality)+, 1girl, white hoodie, earmuffs, leggings, white scarf, black gloves, white socks, short blue hair, blue eyes, bangs\",\n",
    "                \"negative_prompt\": \"EasyNegative, (worst quality, low quality, logo, text, watermark, username, nsfw), inaccurate hands and fingers\"\n",
    "            },\n",
    "            {\n",
    "                \"attn_frames\": [31, 39],\n",
    "                \"clip_frames\": [32, 33, 34, 35, 36, 37, 38],\n",
    "                \"prompt\": \"(masterpiece, best quality)+, 1girl, white hoodie, earmuffs, leggings, white scarf, black gloves, white socks, short blue hair, blue eyes, bangs\",\n",
    "                \"negative_prompt\": \"EasyNegative, (worst quality, low quality, logo, text, watermark, username, nsfw), inaccurate hands and fingers\"\n",
    "            },\n",
    "            {\n",
    "                \"attn_frames\": [39, 47],\n",
    "                \"clip_frames\": [40, 41, 42, 43, 44, 45, 46],\n",
    "                \"prompt\": \"(masterpiece, best quality)+, 1girl, white hoodie, earmuffs, leggings, white scarf, black gloves, white socks, short blue hair, blue eyes, bangs\",\n",
    "                \"negative_prompt\": \"EasyNegative, (worst quality, low quality, logo, text, watermark, username, nsfw), inaccurate hands and fingers\"\n",
    "            },\n",
    "            {\n",
    "                \"attn_frames\": [47, 55],\n",
    "                \"clip_frames\": [48, 49, 50, 51, 52, 53, 54],\n",
    "                \"prompt\": \"(masterpiece, best quality)+, 1girl, white hoodie, earmuffs, leggings, white scarf, black gloves, white socks, short blue hair, blue eyes, bangs\",\n",
    "                \"negative_prompt\": \"EasyNegative, (worst quality, low quality, logo, text, watermark, username, nsfw), inaccurate hands and fingers\"\n",
    "            },\n",
    "            {\n",
    "                \"attn_frames\": [55, 63],\n",
    "                \"clip_frames\": [56, 57, 58, 59, 60, 61, 62],\n",
    "                \"prompt\": \"(masterpiece, best quality)+, 1girl, white hoodie, earmuffs, leggings, white scarf, black gloves, white socks, short blue hair, blue eyes, bangs\",\n",
    "                \"negative_prompt\": \"EasyNegative, (worst quality, low quality, logo, text, watermark, username, nsfw), inaccurate hands and fingers\"\n",
    "            }\n",
    "        ]\n",
    "    }\n",
    "}\n",
    "\"\"\"\n",
    "\n",
    "realesrgan_conf = \"\"\"\n",
    "{\n",
    "    \"paths\": {\n",
    "        \"in_path\": \"../data/dataset/nerf/original/\",\n",
    "        \"out_path\": \"../data/dataset/nerf/train/\"\n",
    "    },\n",
    "    \"upscale\": {\n",
    "        \"outscale\": 4.0,\n",
    "        \"tile\": 192,\n",
    "        \"tile_pad\": 10,\n",
    "        \"pre_pad\": 10,\n",
    "        \"face_enhance\": true,\n",
    "        \"fp32\": false,\n",
    "        \"gpu_id\": 0\n",
    "    }\n",
    "}\n",
    "\"\"\"\n",
    "\n",
    "with open(\"inference_controlvideo.json\", \"w\") as f:\n",
    "    f.write(controlvideo_conf)\n",
    "with open(\"inference_realesrgan.json\", \"w\") as f:\n",
    "    f.write(realesrgan_conf)\n",
    "controlvideo_conf = json.loads(controlvideo_conf)\n",
    "realesrgan_conf = json.loads(realesrgan_conf)"
   ]
  },
  {
   "attachments": {},
   "cell_type": "markdown",
   "metadata": {},
   "source": [
    "### Inference"
   ]
  },
  {
   "cell_type": "code",
   "execution_count": null,
   "metadata": {
    "vscode": {
     "languageId": "shellscript"
    }
   },
   "outputs": [],
   "source": [
    "!python inference_controlvideo.py --settings_path \"inference_controlvideo.json\" "
   ]
  },
  {
   "cell_type": "code",
   "execution_count": null,
   "metadata": {
    "vscode": {
     "languageId": "shellscript"
    }
   },
   "outputs": [],
   "source": [
    "!python inference_realesrgan.py --settings_path \"inference_realesrgan.json\""
   ]
  },
  {
   "cell_type": "code",
   "execution_count": null,
   "metadata": {},
   "outputs": [],
   "source": [
    "import os\n",
    "import glob\n",
    "\n",
    "import cv2\n",
    "import PIL.Image\n",
    "\n",
    "from src.utils.image_wrapper import *\n",
    "\n",
    "\n",
    "fps = 8.0\n",
    "scale = 0.5\n",
    "out_path = \"../ipynb/controlvideo.mp4\"\n",
    "fourcc = cv2.VideoWriter_fourcc(*\"MP4V\")\n",
    "\n",
    "# Load and scale images\n",
    "images = sorted(glob.glob(os.path.join(realesrgan_conf[\"paths\"][\"out_path\"], \"*.png\")))\n",
    "images = [\n",
    "    image_wrapper(PIL.Image.open(image), \"pil\").scale(scale).to_cv2()\n",
    "    for image in images\n",
    "]\n",
    "\n",
    "# Convert images to video\n",
    "video = cv2.VideoWriter(out_path, fourcc, fps, images[0].size)\n",
    "for image in images:\n",
    "    video.write(image)\n",
    "video.release()\n",
    "cv2.destroyAllWindows()"
   ]
  },
  {
   "attachments": {},
   "cell_type": "markdown",
   "metadata": {},
   "source": [
    "# Grounding DINO + Segment Anything"
   ]
  },
  {
   "cell_type": "code",
   "execution_count": null,
   "metadata": {},
   "outputs": [],
   "source": []
  }
 ],
 "metadata": {
  "kernelspec": {
   "display_name": "marching-waifu",
   "language": "python",
   "name": "python3"
  },
  "language_info": {
   "codemirror_mode": {
    "name": "ipython",
    "version": 3
   },
   "file_extension": ".py",
   "mimetype": "text/x-python",
   "name": "python",
   "nbconvert_exporter": "python",
   "pygments_lexer": "ipython3",
   "version": "3.10.11"
  },
  "orig_nbformat": 4
 },
 "nbformat": 4,
 "nbformat_minor": 2
}
