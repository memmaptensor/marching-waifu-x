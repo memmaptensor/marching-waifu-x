{
 "cells": [
  {
   "attachments": {},
   "cell_type": "markdown",
   "metadata": {},
   "source": [
    "# ControlVideo"
   ]
  },
  {
   "attachments": {},
   "cell_type": "markdown",
   "metadata": {},
   "source": [
    "### Installation"
   ]
  },
  {
   "attachments": {},
   "cell_type": "markdown",
   "metadata": {},
   "source": [
    "Only for colab"
   ]
  },
  {
   "cell_type": "code",
   "execution_count": null,
   "metadata": {
    "vscode": {
     "languageId": "shellscript"
    }
   },
   "outputs": [],
   "source": [
    "!git clone --recurse-submodules https://github.com/rossiyareich/marching-waifu-x.git\n",
    "%cd marching-waifu-x"
   ]
  },
  {
   "attachments": {},
   "cell_type": "markdown",
   "metadata": {},
   "source": [
    "Only for local install (run `setup.sh` or `setup.bat` and `huggingface-cli login` beforehand!)"
   ]
  },
  {
   "cell_type": "code",
   "execution_count": null,
   "metadata": {
    "vscode": {
     "languageId": "shellscript"
    }
   },
   "outputs": [],
   "source": [
    "%cd ../"
   ]
  },
  {
   "attachments": {},
   "cell_type": "markdown",
   "metadata": {},
   "source": [
    "Project setup"
   ]
  },
  {
   "cell_type": "code",
   "execution_count": null,
   "metadata": {
    "vscode": {
     "languageId": "shellscript"
    }
   },
   "outputs": [],
   "source": [
    "!nvidia-smi\n",
    "\n",
    "# Install requirements\n",
    "!python -m pip install -r requirements.txt\n",
    "!python -m pip install -r ext/Real-ESRGAN/requirements.txt\n",
    "\n",
    "# Create directories\n",
    "!mkdir data/dataset/nerf/original/\n",
    "!mkdir data/dataset/nerf/train/\n",
    "\n",
    "# Install local packages\n",
    "%cd ext/Real-ESRGAN/\n",
    "!python setup.py develop\n",
    "%cd ../../"
   ]
  },
  {
   "cell_type": "code",
   "execution_count": null,
   "metadata": {
    "vscode": {
     "languageId": "shellscript"
    }
   },
   "outputs": [],
   "source": [
    "%cd scripts"
   ]
  },
  {
   "cell_type": "code",
   "execution_count": null,
   "metadata": {},
   "outputs": [],
   "source": [
    "import sys\n",
    "sys.path.append(\"..\")"
   ]
  },
  {
   "cell_type": "code",
   "execution_count": null,
   "metadata": {},
   "outputs": [],
   "source": [
    "from huggingface_hub import notebook_login\n",
    "notebook_login()"
   ]
  },
  {
   "attachments": {},
   "cell_type": "markdown",
   "metadata": {},
   "source": [
    "### Configuration"
   ]
  },
  {
   "cell_type": "code",
   "execution_count": null,
   "metadata": {},
   "outputs": [],
   "source": [
    "#@title Inference configuration\n",
    "\n",
    "#@markdown ###**ControlVideo paths**\n",
    "controlvideo_out_path = \"../data/dataset/nerf/original/\"  #@param {type:\"string\"}\n",
    "controlvideo_sd_repo = \"rossiyareich/Nabylon-v1.0-fp16\"  #@param {type:\"string\"}\n",
    "controlvideo_vae_repo = \"stabilityai/sd-vae-ft-mse\"  #@param {type:\"string\"}\n",
    "controlvideo_controlnet_repo = \"lllyasviel/control_v11p_sd15_openpose\"  #@param {type:\"string\"}\n",
    "controlvideo_ifnet_path = \"../data/checkpoints/flownet.pkl\"  #@param {type:\"string\"}\n",
    "controlvideo_cache_dir = \"../data/checkpoints/\"  #@param {type:\"string\"}\n",
    "#@markdown ###**ControlVideo**\n",
    "controlvideo_prompt = \"(masterpiece, best quality)+, 1girl, white hoodie, earmuffs, leggings, white scarf, black gloves, white socks, short blue hair, blue eyes, bangs\"  #@param {type:\"string\"}\n",
    "controlvideo_negative_prompt = \"EasyNegative, (worst quality, low quality, logo, text, watermark, username, nsfw), inaccurate hands and fingers\"  #@param {type:\"string\"}\n",
    "controlvideo_textual_inversion_path = \"../data/embeddings/\"  #@param {type:\"string\"}\n",
    "controlvideo_controlnet_conditioning_path = \"../data/dataset/conditioning/\"  #@param {type:\"string\"}\n",
    "controlvideo_video_length = 15  #@param {type:\"slider\", min:1, max:250, step:1}\n",
    "controlvideo_num_inference_steps = 50  #@param {type:\"slider\", min:1, max:200, step:1}\n",
    "controlvideo_guidance_scale = 10  #@param {type:\"slider\", min:1, max:50, step:0.5}\n",
    "controlvideo_smoother_stpes = \"19,20\"  #@param {type:\"string\"}\n",
    "controlvideo_window_size = None  #@param {type:\"raw\"}\n",
    "controlvideo_controlnet_conditioning_scale = 1.0  #@param {type:\"slider\", min:0, max:1, step:0.05}\n",
    "controlvideo_seed = None  #@param {type:\"raw\"}\n",
    "\n",
    "#@markdown ###**RealESRGAN**\n",
    "realesrgan_in_path = controlvideo_out_path\n",
    "realesrgan_out_path = \"../data/dataset/nerf/train/\"  #@param {type:\"string\"}\n",
    "realesrgan_outscale = 4.0  #@param {type:\"slider\", min:1, max:100, step:0.01}\n",
    "realesrgan_tile = 192  #@param {type:\"slider\", min:0, max:10000, step:1}\n",
    "realesrgan_tile_pad = 16  #@param {type:\"slider\", min:0, max:10000, step:1}\n",
    "realesrgan_pre_pad = 16  #@param {type:\"slider\", min:0, max:10000, step:1}\n",
    "realesrgan_face_enhance = True  #@param {type:\"boolean\"}\n",
    "realesrgan_fp32 = False  #@param {type:\"boolean\"}\n",
    "realesrgan_gpu_id = 0  #@param {type:\"integer\"}"
   ]
  },
  {
   "attachments": {},
   "cell_type": "markdown",
   "metadata": {},
   "source": [
    "### Inference"
   ]
  },
  {
   "cell_type": "code",
   "execution_count": null,
   "metadata": {},
   "outputs": [],
   "source": [
    "import glob\n",
    "import os\n",
    "import pathlib\n",
    "import PIL.Image\n",
    "from src.utils.image_wrapper import *\n",
    "\n",
    "def load_images():\n",
    "    video_frames = []\n",
    "    controlnet_conditions = []\n",
    "    for filepath in sorted(\n",
    "        glob.glob(os.path.combine(controlvideo_controlnet_conditioning_path, \"*.png\"))\n",
    "    ):\n",
    "        pl = pathlib.Path(filepath)\n",
    "        video_frame_path = os.path.combine(controlvideo_out_path, pl.stem, \".png\")\n",
    "        video_frames.append(PIL.Image.open(video_frame_path))\n",
    "        controlnet_conditions.append(PIL.Image.open(filepath))\n",
    "    return (video_frames, controlnet_conditions)\n",
    "\n",
    "def display_at_index(index, video_frames, controlnet_conditions):\n",
    "    display(image_wrapper(video_frames[index], \"pil\").concatenate(\n",
    "        image_wrapper(controlnet_conditions[index], \"pil\")\n",
    "    ).to_pil())"
   ]
  },
  {
   "cell_type": "code",
   "execution_count": null,
   "metadata": {},
   "outputs": [],
   "source": [
    "!python inference_controlvideo_py --out_path $controlvideo_out_path --sd_repo $controlvideo_sd_repo --vae_repo $controlvideo_vae_repo --controlnet_repo $controlvideo_controlnet_repo --ifnet_path $controlvideo_ifnet_path --cache_dir $controlvideo_cache_dir --prompt $controlvideo_prompt --negative_prompt $controlvideo_negative_prompt --textual_inversion_path $controlvideo_textual_inversion_path --controlnet_conditioning_path $controlvideo_controlnet_conditioning_path --video_length $controlvideo_video_length --num_inference_steps $controlvideo_num_inference_steps --guidance_scale $controlvideo_guidance_scale --smoother_steps $controlvideo_smoother_steps --window_size $controlvideo_window_size --controlnet_conditioning_scale $controlvideo_controlnet_conditioning_scale --seed $controlvideo_seed"
   ]
  },
  {
   "cell_type": "code",
   "execution_count": null,
   "metadata": {},
   "outputs": [],
   "source": [
    "import time\n",
    "from IPython.display import clear_output\n",
    "\n",
    "display_interval = 1\n",
    "\n",
    "video_frames, controlnet_conditions = load_images()\n",
    "length = len(video_frames)\n",
    "\n",
    "for i in range(length):\n",
    "    display_at_index(i, video_frames, controlnet_conditions)\n",
    "    time.sleep(display_interval)\n",
    "    if i < length - 1:\n",
    "        clear_output(True)"
   ]
  },
  {
   "cell_type": "code",
   "execution_count": null,
   "metadata": {},
   "outputs": [],
   "source": [
    "!python inference_realesrgan_py --in_path $realesrgan_in_path --out_path $realesrgan_out_path --outscale $realesrgan_outscale --tile_pad $realesrgan_tile_pad --pre_pad $realesrgan_pre_pad --face_enhance $realesrgan_face_enhance --fp32 $realesrgan_fp32 --gpu_id $realesrgan_gpu_id"
   ]
  }
 ],
 "metadata": {
  "kernelspec": {
   "display_name": "marching-waifu",
   "language": "python",
   "name": "python3"
  },
  "language_info": {
   "codemirror_mode": {
    "name": "ipython",
    "version": 3
   },
   "file_extension": ".py",
   "mimetype": "text/x-python",
   "name": "python",
   "nbconvert_exporter": "python",
   "pygments_lexer": "ipython3",
   "version": "3.10.11"
  },
  "orig_nbformat": 4
 },
 "nbformat": 4,
 "nbformat_minor": 2
}
